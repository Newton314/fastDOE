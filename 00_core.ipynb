{
 "cells": [
  {
   "cell_type": "code",
   "execution_count": null,
   "metadata": {},
   "outputs": [],
   "source": [
    "#| default_exp core"
   ]
  },
  {
   "cell_type": "markdown",
   "metadata": {},
   "source": [
    "# Experimental Design\n",
    "\n",
    "> Design experiments in Python."
   ]
  },
  {
   "cell_type": "code",
   "execution_count": null,
   "metadata": {},
   "outputs": [],
   "source": [
    "#| hide\n",
    "from nbdev.showdoc import *"
   ]
  },
  {
   "cell_type": "markdown",
   "metadata": {},
   "source": [
    "k = #factors\n",
    "\n",
    "L = #levels\n",
    "\n",
    "n = #replications\n",
    "\n",
    "N = #runs = k * L * n"
   ]
  },
  {
   "cell_type": "code",
   "execution_count": null,
   "metadata": {},
   "outputs": [],
   "source": [
    "#| export\n",
    "import numpy as np\n",
    "import pandas as pd\n",
    "\n",
    "from fastcore.basics import patch"
   ]
  },
  {
   "cell_type": "code",
   "execution_count": null,
   "metadata": {},
   "outputs": [],
   "source": [
    "#| export\n",
    "class ExperimentalDesign():\n",
    "    \"\"\"Class to hold and manage the Experimental Design matrix\"\"\"\n",
    "    def __init__(\n",
    "        self,\n",
    "        design: pd.DataFrame, # base design matrix\n",
    "        factors: list, # list of experimental factors\n",
    "        center_vals: list, # list of center values for each factors\n",
    "        delta_vals: list # list of delta values for each factor\n",
    "    ):\n",
    "        self.design: pd.DataFrame = design\n",
    "        self.factors: list = factors\n",
    "        self.model_matrix: np.ndarray = design.query(\"rep==0\")[factors].values\n",
    "        self.experimental_matrix = None\n",
    "        \n",
    "        if center_vals and delta_vals:\n",
    "            self.centers = dict(zip(factors, center_vals))\n",
    "            self.deltas = dict(zip(factors, delta_vals))\n",
    "            self.experimental_matrix = self.create_experimental_matrix()\n",
    "    \n",
    "    def __repr__(self):\n",
    "        if self.experimental_matrix is not None:\n",
    "            return f\"{self.experimental_matrix}\"\n",
    "        else:\n",
    "            return f\"{self.design}\"\n",
    "    \n",
    "    def __str__(self):\n",
    "        return self.__repr__()\n",
    "    \n",
    "    def create_experimental_matrix(self) -> pd.DataFrame:\n",
    "        \"\"\"Applies level values to the model matrix\"\"\"\n",
    "        experiment_design = self.design.copy()\n",
    "        for factor in self.factors:\n",
    "            experiment_design = experiment_design.assign(\n",
    "                **{factor: self.design[factor] * self.deltas[factor] + self.centers[factor]}\n",
    "            )\n",
    "        return experiment_design"
   ]
  },
  {
   "cell_type": "code",
   "execution_count": null,
   "metadata": {},
   "outputs": [
    {
     "data": {
      "text/markdown": [
       "---\n",
       "\n",
       "#### ExperimentalDesign.create_experimental_matrix\n",
       "\n",
       ">      ExperimentalDesign.create_experimental_matrix ()\n",
       "\n",
       "Applies level values to the model matrix"
      ],
      "text/plain": [
       "<nbdev.showdoc.BasicMarkdownRenderer>"
      ]
     },
     "execution_count": null,
     "metadata": {},
     "output_type": "execute_result"
    }
   ],
   "source": [
    "show_doc(ExperimentalDesign.create_experimental_matrix)"
   ]
  },
  {
   "cell_type": "code",
   "execution_count": null,
   "metadata": {},
   "outputs": [
    {
     "data": {
      "text/plain": [
       "     a  b  rep\n",
       "0  0.4  3    0\n",
       "1  0.6  1    0"
      ]
     },
     "execution_count": null,
     "metadata": {},
     "output_type": "execute_result"
    }
   ],
   "source": [
    "factors = [\"a\", \"b\"]\n",
    "design = pd.DataFrame({\n",
    "    \"a\": [-1, 1],\n",
    "    \"b\": [1, -1],\n",
    "    \"rep\": [0, 0]\n",
    "})\n",
    "ed = ExperimentalDesign(design, factors, center_vals=[0.5, 2], delta_vals=[0.1, 1]); ed"
   ]
  },
  {
   "cell_type": "code",
   "execution_count": null,
   "metadata": {},
   "outputs": [],
   "source": [
    "#| export\n",
    "\n",
    "@patch\n",
    "def calc_orthogonality(self: ExperimentalDesign) -> int:\n",
    "    \"\"\"Calculate the orthogonality of the model matrix\"\"\"\n",
    "    return self.model_matrix.sum(axis=1).sum()"
   ]
  },
  {
   "cell_type": "code",
   "execution_count": null,
   "metadata": {},
   "outputs": [
    {
     "data": {
      "text/plain": [
       "0"
      ]
     },
     "execution_count": null,
     "metadata": {},
     "output_type": "execute_result"
    }
   ],
   "source": [
    "ed.calc_orthogonality()"
   ]
  },
  {
   "cell_type": "code",
   "execution_count": null,
   "metadata": {},
   "outputs": [],
   "source": [
    "#| export\n",
    "\n",
    "@patch\n",
    "def is_orthogonal(self: ExperimentalDesign) -> bool:\n",
    "    \"\"\"Checks orthogonality of the model matrix\"\"\"\n",
    "    return self.calc_orthogonality() == 0\n",
    "    "
   ]
  },
  {
   "cell_type": "code",
   "execution_count": null,
   "metadata": {},
   "outputs": [
    {
     "data": {
      "text/plain": [
       "True"
      ]
     },
     "execution_count": null,
     "metadata": {},
     "output_type": "execute_result"
    }
   ],
   "source": [
    "ed.is_orthogonal()"
   ]
  },
  {
   "cell_type": "code",
   "execution_count": null,
   "metadata": {},
   "outputs": [],
   "source": [
    "#| hide\n",
    "from nbdev import nbdev_export; nbdev_export()"
   ]
  },
  {
   "cell_type": "code",
   "execution_count": null,
   "metadata": {},
   "outputs": [],
   "source": []
  }
 ],
 "metadata": {
  "kernelspec": {
   "display_name": "Python 3 (ipykernel)",
   "language": "python",
   "name": "python3"
  }
 },
 "nbformat": 4,
 "nbformat_minor": 2
}
