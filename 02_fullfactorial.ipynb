{
 "cells": [
  {
   "cell_type": "code",
   "execution_count": null,
   "metadata": {},
   "outputs": [],
   "source": [
    "#| default_exp fullfactorial"
   ]
  },
  {
   "cell_type": "markdown",
   "metadata": {},
   "source": [
    "# FullFactorial"
   ]
  },
  {
   "cell_type": "code",
   "execution_count": null,
   "metadata": {},
   "outputs": [],
   "source": [
    "#| export\n",
    "import numpy as np\n",
    "import pandas as pd\n",
    "\n",
    "from numpy.random import default_rng\n",
    "\n",
    "from fastDOE.core import ExperimentalDesign"
   ]
  },
  {
   "cell_type": "code",
   "execution_count": null,
   "metadata": {},
   "outputs": [],
   "source": [
    "#| hide\n",
    "import fastcore.test as test"
   ]
  },
  {
   "cell_type": "code",
   "execution_count": null,
   "metadata": {},
   "outputs": [],
   "source": [
    "#| hide\n",
    "%load_ext autoreload\n",
    "%autoreload 2"
   ]
  },
  {
   "cell_type": "code",
   "execution_count": null,
   "metadata": {},
   "outputs": [],
   "source": [
    "#| export\n",
    "\n",
    "def _generate_levels(factorlvls: list) -> list:\n",
    "    \"\"\"Generates a list of the levels from\n",
    "    the given list with numbers of levels for each factor.\n",
    "\n",
    "    [2, 3, 2] -> [[0, 1], [0, 1, 2], [0, 1]]\n",
    "\n",
    "    Args:\n",
    "        factorlvls (list): list with the number of levels for each factor\n",
    "\n",
    "    Returns:\n",
    "        list: list with the levels for each factor\n",
    "    \"\"\"\n",
    "    levels = []\n",
    "    for rnge in factorlvls:\n",
    "        assert(type(rnge) == int)\n",
    "        levels.append(list(range(rnge)))\n",
    "    return levels"
   ]
  },
  {
   "cell_type": "code",
   "execution_count": null,
   "metadata": {},
   "outputs": [
    {
     "data": {
      "text/plain": [
       "[[0, 1], [0, 1, 2], [0, 1, 2, 3]]"
      ]
     },
     "execution_count": null,
     "metadata": {},
     "output_type": "execute_result"
    }
   ],
   "source": [
    "nr_lvls = [2, 3, 4]\n",
    "\n",
    "_generate_levels(nr_lvls)"
   ]
  },
  {
   "cell_type": "code",
   "execution_count": null,
   "metadata": {},
   "outputs": [],
   "source": [
    "#| export\n",
    "\n",
    "def _build_ff_column(factor:int, nr_levels: list, levels: list) -> list:\n",
    "    \"\"\"Builds the experimental column for the given factor.\n",
    "\n",
    "    Args:\n",
    "        col (int): the column to build\n",
    "        nr_levels (list): number of levels per factor e.g. [2, 3, 4]\n",
    "        levels (list): level for each factor e.g. [[0, 1], [0, 1, 2, 3], [0, 1, 2, 3, 4]]\n",
    "\n",
    "    Returns:\n",
    "        list: column of the experimental design matrix for the given factor\n",
    "    \"\"\"\n",
    "    lvls = [1, 1] + nr_levels\n",
    "    n = np.array(nr_levels).prod()\n",
    "    reps = lvls[factor] * lvls[factor +1]\n",
    "    unit = []\n",
    "    for i in levels[factor]:\n",
    "        unit.extend([i] * reps)\n",
    "    column = unit * int(n / len(unit))\n",
    "    return column\n",
    "   \n",
    "    "
   ]
  },
  {
   "cell_type": "code",
   "execution_count": null,
   "metadata": {},
   "outputs": [],
   "source": [
    "#| export\n",
    "def fullfactorial(nr_lvls: list = [], levels: list = []) -> np.ndarray:\n",
    "    \"\"\"Generates a general fullfactorial experimental design matrix\n",
    "\n",
    "    Args:\n",
    "        factorlvls (list): _description_ e.g. [2, 3, 3]. Defaults to [].\n",
    "        levels (list, optional): _description_. eg. [[1, 2], [1, 2, 3], [1, 2, 3]] Defaults to [].\n",
    "\n",
    "    Returns:\n",
    "        np.ndarray: _description_\n",
    "    \"\"\"\n",
    "    if not nr_lvls and not levels:\n",
    "        raise ValueError(\"Please provide either nr_lvls or levels.\")\n",
    "    nr_lvls = [len(x) for x in levels] if not nr_lvls else nr_lvls\n",
    "    levels = _generate_levels(nr_lvls) if not levels else levels\n",
    "\n",
    "    # build the design matrix\n",
    "    matrix = []\n",
    "    for i, lvl in enumerate(nr_lvls):\n",
    "        matrix.append(_build_ff_column(i, nr_lvls, levels))\n",
    "    matrix = np.array(matrix)\n",
    "    return matrix.T\n",
    "    "
   ]
  },
  {
   "cell_type": "code",
   "execution_count": null,
   "metadata": {},
   "outputs": [
    {
     "data": {
      "text/plain": [
       "array([[0, 0, 0],\n",
       "       [1, 0, 0],\n",
       "       [0, 1, 0],\n",
       "       [1, 1, 0],\n",
       "       [0, 2, 0],\n",
       "       [1, 2, 0],\n",
       "       [0, 0, 1],\n",
       "       [1, 0, 1],\n",
       "       [0, 1, 1],\n",
       "       [1, 1, 1],\n",
       "       [0, 2, 1],\n",
       "       [1, 2, 1],\n",
       "       [0, 0, 2],\n",
       "       [1, 0, 2],\n",
       "       [0, 1, 2],\n",
       "       [1, 1, 2],\n",
       "       [0, 2, 2],\n",
       "       [1, 2, 2],\n",
       "       [0, 0, 3],\n",
       "       [1, 0, 3],\n",
       "       [0, 1, 3],\n",
       "       [1, 1, 3],\n",
       "       [0, 2, 3],\n",
       "       [1, 2, 3]])"
      ]
     },
     "execution_count": null,
     "metadata": {},
     "output_type": "execute_result"
    }
   ],
   "source": [
    "ff = fullfactorial(nr_lvls)\n",
    "ff"
   ]
  },
  {
   "cell_type": "code",
   "execution_count": null,
   "metadata": {},
   "outputs": [],
   "source": [
    "#| export\n",
    "\n",
    "def _build_ff2k_column(\n",
    "    col: int, # column to build\n",
    "    n: int # number of runs\n",
    ") -> np.ndarray:\n",
    "    repeats = 2**col\n",
    "    entry = 1\n",
    "    column = []\n",
    "    for i in range(n):\n",
    "        if i % repeats == 0:\n",
    "            entry *= -1\n",
    "        column.append(entry)\n",
    "    return np.array(column).reshape(-1, 1)"
   ]
  },
  {
   "cell_type": "code",
   "execution_count": null,
   "metadata": {},
   "outputs": [
    {
     "data": {
      "text/plain": [
       "True"
      ]
     },
     "execution_count": null,
     "metadata": {},
     "output_type": "execute_result"
    }
   ],
   "source": [
    "#| hide\n",
    "test.array_equal(_build_ff2k_column(0, 8), np.array([-1, 1, -1, 1, -1, 1, -1, 1]).reshape(-1, 1))\n",
    "test.array_equal(_build_ff2k_column(1, 8), np.array([-1, -1, 1, 1, -1, -1, 1, 1]).reshape(-1, 1))\n",
    "test.array_equal(_build_ff2k_column(2, 8), np.array([-1, -1, -1, -1, 1, 1, 1, 1]).reshape(-1, 1))"
   ]
  },
  {
   "cell_type": "code",
   "execution_count": null,
   "metadata": {},
   "outputs": [
    {
     "data": {
      "text/plain": [
       "True"
      ]
     },
     "execution_count": null,
     "metadata": {},
     "output_type": "execute_result"
    }
   ],
   "source": [
    "#| hide\n",
    "test.array_equal(\n",
    "    _build_ff2k_column(2, 16),\n",
    "    np.array([-1, -1, -1, -1, 1, 1, 1, 1, -1, -1, -1, -1, 1, 1, 1, 1]).reshape(-1, 1)\n",
    ")\n",
    "test.array_equal(\n",
    "    _build_ff2k_column(3, 16),\n",
    "    np.array([-1, -1, -1, -1, -1, -1, -1, -1, 1, 1, 1, 1, 1, 1, 1, 1]).reshape(-1, 1)\n",
    ")"
   ]
  },
  {
   "cell_type": "code",
   "execution_count": null,
   "metadata": {},
   "outputs": [],
   "source": [
    "#| export\n",
    "def fullfactorial2k(k: int) -> np.ndarray:\n",
    "    \"\"\"\n",
    "    Creates a full factorial design with 2 levels per factor\n",
    "    in standard order\n",
    "\n",
    "    if you have 5 or more factors consider screening designs\n",
    "    to reduce the number of factors\n",
    "\n",
    "    k (int): number of factors\n",
    "\n",
    "    Return\n",
    "    \"\"\"\n",
    "    if k < 1:\n",
    "        raise ValueError(\"number of factors has to be greater than 1\")\n",
    "    nr_lvls = [2] * k\n",
    "    n = 2**k\n",
    "    matrix = np.concatenate([_build_ff2k_column(col, n) for col in range(k)], axis=1)\n",
    "    return matrix\n"
   ]
  },
  {
   "cell_type": "markdown",
   "metadata": {},
   "source": [
    "full factorial design matrix with 3 factors"
   ]
  },
  {
   "cell_type": "code",
   "execution_count": null,
   "metadata": {},
   "outputs": [
    {
     "data": {
      "text/plain": [
       "array([[-1, -1, -1],\n",
       "       [ 1, -1, -1],\n",
       "       [-1,  1, -1],\n",
       "       [ 1,  1, -1],\n",
       "       [-1, -1,  1],\n",
       "       [ 1, -1,  1],\n",
       "       [-1,  1,  1],\n",
       "       [ 1,  1,  1]])"
      ]
     },
     "execution_count": null,
     "metadata": {},
     "output_type": "execute_result"
    }
   ],
   "source": [
    "fullfactorial2k(3)"
   ]
  },
  {
   "cell_type": "code",
   "execution_count": null,
   "metadata": {},
   "outputs": [
    {
     "data": {
      "text/plain": [
       "array([[-1, -1, -1, -1],\n",
       "       [ 1, -1, -1, -1],\n",
       "       [-1,  1, -1, -1],\n",
       "       [ 1,  1, -1, -1],\n",
       "       [-1, -1,  1, -1],\n",
       "       [ 1, -1,  1, -1],\n",
       "       [-1,  1,  1, -1],\n",
       "       [ 1,  1,  1, -1],\n",
       "       [-1, -1, -1,  1],\n",
       "       [ 1, -1, -1,  1],\n",
       "       [-1,  1, -1,  1],\n",
       "       [ 1,  1, -1,  1],\n",
       "       [-1, -1,  1,  1],\n",
       "       [ 1, -1,  1,  1],\n",
       "       [-1,  1,  1,  1],\n",
       "       [ 1,  1,  1,  1]])"
      ]
     },
     "execution_count": null,
     "metadata": {},
     "output_type": "execute_result"
    }
   ],
   "source": [
    "fullfactorial2k(4)"
   ]
  },
  {
   "cell_type": "code",
   "execution_count": null,
   "metadata": {},
   "outputs": [],
   "source": [
    "ff = fullfactorial2k(5)\n",
    "assert ff.shape[0] == 2**5\n",
    "assert ff.shape[1] == 5"
   ]
  },
  {
   "cell_type": "code",
   "execution_count": null,
   "metadata": {},
   "outputs": [],
   "source": [
    "#| export\n",
    "def randomize_frame(df: pd.DataFrame, randomize=True, axis: int=0, seed=42) -> pd.DataFrame:\n",
    "    \"\"\"Randomizes the rows of the Dataframe\n",
    "    if randomize is True.\n",
    "\n",
    "    Args:\n",
    "        df (pd.DataFrame): _description_\n",
    "        randomize (bool, optional): _description_. Defaults to True.\n",
    "        axis (int, optional): _description_. Defaults to 0.\n",
    "        seed (int, optional): _description_. Defaults to 42.\n",
    "\n",
    "    Returns:\n",
    "        pd.DataFrame: _description_\n",
    "    \"\"\"\n",
    "    if randomize:\n",
    "        rng = default_rng(seed)\n",
    "        rng.shuffle(df.values, axis=axis)\n",
    "    return df"
   ]
  },
  {
   "cell_type": "code",
   "execution_count": null,
   "metadata": {},
   "outputs": [],
   "source": [
    "#| export\n",
    "def add_blocks(df: pd.DataFrame, block_on:str) -> pd.DataFrame:\n",
    "    \"\"\"Adds blocking to the given Dataframe\n",
    "    for the given columns to block_on.\n",
    "\n",
    "    Args:\n",
    "        df (pd.DataFrame): _description_\n",
    "        block_on (str): column which is used to block the experimental Design\n",
    "\n",
    "    Returns:\n",
    "        pd.DataFrame: _description_\n",
    "    \"\"\"\n",
    "    i = 0\n",
    "    if block_on == \"rep\":\n",
    "        for r in df[\"rep\"].unique():\n",
    "            df.loc[(df[\"rep\"]==r), \"block\"] = i\n",
    "            i += 1\n",
    "    elif block_on in df.columns:\n",
    "        for r in df[\"rep\"].unique():\n",
    "            for v in df[block_on].unique():\n",
    "                df.loc[(df[\"rep\"]==r) & (df[block_on]==v), \"block\"] = i\n",
    "                i+=1\n",
    "    return df\n"
   ]
  },
  {
   "cell_type": "code",
   "execution_count": null,
   "metadata": {},
   "outputs": [],
   "source": [
    "#| export\n",
    "def add_centerruns(matrix: pd.DataFrame, centerruns) -> pd.DataFrame:\n",
    "    \"\"\"Adds centerruns to  the given design matrix\n",
    "\n",
    "    Args:\n",
    "        matrix (pd.DataFrame): _description_\n",
    "        centerruns (str | int): either \"block\" to add centerruns after each block\n",
    "                                or specify the number of centerruns directly which\n",
    "                                are distributed evenly across the design matrix\n",
    "\n",
    "    Returns:\n",
    "        pd.DataFrame: _description_\n",
    "    \"\"\"\n",
    "    n = matrix.shape[0]\n",
    "    if centerruns == \"block\":\n",
    "        centerruns = len(matrix[\"block\"].unique()) + 1\n",
    "    elif type(centerruns) == int:\n",
    "        centerruns = centerruns\n",
    "    centerpositions = np.linspace(0, n, centerruns, dtype=\"int\")\n",
    "    new_matrix = np.insert(matrix.values, centerpositions, [0]*matrix.shape[1], axis=0)\n",
    "    return pd.DataFrame(new_matrix, columns=matrix.columns)\n"
   ]
  },
  {
   "cell_type": "code",
   "execution_count": null,
   "metadata": {},
   "outputs": [],
   "source": [
    "#| export\n",
    "def fullfact2k(\n",
    "    factors:list, # list of experimental factors\n",
    "    center_vals:list=[], # list of center values for each factor\n",
    "    delta_vals: list= [], # list of delta values for each factor\n",
    "    randomize:bool=True, # randomize the design\n",
    "    centerruns:int=3, # number of centerruns\n",
    "    repetitions:int=0, # number of repetitions\n",
    "    block_on: int=\"rep\", # factor which is used to block the design\n",
    "    seed:int=42 # seed for the randomization\n",
    "):\n",
    "    \"\"\"Wrapper for fullfactorial2k with additional options\n",
    "\n",
    "    Args:\n",
    "        factors (list): _description_\n",
    "        randomize (bool, optional): _description_. Defaults to True.\n",
    "        centerruns (int, optional): _description_. Defaults to 3.\n",
    "        repetitions (int, optional): _description_. Defaults to 0.\n",
    "        seed (int, optional): _description_. Defaults to 42.\n",
    "\n",
    "    Returns:\n",
    "        _type_: _description_\n",
    "    \"\"\"\n",
    "    \n",
    "    k: int = len(factors)\n",
    "    runs: int = repetitions + 1\n",
    "    n: int = 2**k * runs\n",
    "    model_matrix: np.ndarray = fullfactorial2k(k)\n",
    "    start: int = 1\n",
    "    stop: int = len(model_matrix)\n",
    "    steps: int = len(model_matrix)\n",
    "    matrix = np.append(model_matrix, np.linspace(start, stop, steps, dtype=\"int32\").reshape((steps, -1)), axis=1)\n",
    "    cols = factors + [\"standardOrder\"]\n",
    "    df = pd.DataFrame(matrix, columns = cols)\n",
    "    new_df = df.assign(rep=0)\n",
    "    for i in range(1, runs):\n",
    "        new_df = pd.concat([new_df, df.assign(rep=i)])\n",
    "    design = (\n",
    "        new_df\n",
    "        .assign(block=0)\n",
    "        .pipe(add_blocks, block_on)\n",
    "        .pipe(randomize_frame, randomize)\n",
    "        .sort_values(\"rep\")\n",
    "        .pipe(add_centerruns, centerruns)\n",
    "    )\n",
    "    return ExperimentalDesign(design, factors, center_vals=center_vals, delta_vals=delta_vals)"
   ]
  },
  {
   "cell_type": "code",
   "execution_count": null,
   "metadata": {},
   "outputs": [
    {
     "data": {
      "text/plain": [
       "    a  b  c  standardOrder  rep  block\n",
       "0   0  0  0              0    0      0\n",
       "1  -1  1  1              7    0      0\n",
       "2   1  1 -1              4    0      0\n",
       "3  -1 -1 -1              1    0      0\n",
       "4   1  1  1              8    0      0\n",
       "5   1 -1  1              6    0      0\n",
       "6  -1  1 -1              3    0      0\n",
       "7  -1 -1  1              5    0      0\n",
       "8   1 -1 -1              2    0      0\n",
       "9   0  0  0              0    0      0\n",
       "10  1  1  1              8    1      1\n",
       "11  1  1 -1              4    1      1\n",
       "12 -1  1 -1              3    1      1\n",
       "13  1 -1 -1              2    1      1\n",
       "14 -1 -1  1              5    1      1\n",
       "15 -1  1  1              7    1      1\n",
       "16  1 -1  1              6    1      1\n",
       "17 -1 -1 -1              1    1      1\n",
       "18  0  0  0              0    0      0"
      ]
     },
     "execution_count": null,
     "metadata": {},
     "output_type": "execute_result"
    }
   ],
   "source": [
    "factors = [\"a\", \"b\", \"c\"]\n",
    "design = fullfact2k(factors, block_on=\"rep\", repetitions=1); design"
   ]
  },
  {
   "cell_type": "code",
   "execution_count": null,
   "metadata": {},
   "outputs": [],
   "source": [
    "#| hide\n",
    "from nbdev import nbdev_export; nbdev_export()"
   ]
  }
 ],
 "metadata": {
  "kernelspec": {
   "display_name": "Python 3 (ipykernel)",
   "language": "python",
   "name": "python3"
  }
 },
 "nbformat": 4,
 "nbformat_minor": 2
}
