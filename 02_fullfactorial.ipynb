{
 "cells": [
  {
   "cell_type": "code",
   "execution_count": null,
   "metadata": {},
   "outputs": [],
   "source": [
    "#| default_exp fullfactorial"
   ]
  },
  {
   "cell_type": "markdown",
   "metadata": {},
   "source": [
    "# FullFactorial"
   ]
  },
  {
   "cell_type": "code",
   "execution_count": null,
   "metadata": {},
   "outputs": [],
   "source": [
    "#| export\n",
    "import numpy as np\n",
    "import pandas as pd\n",
    "\n",
    "from numpy.random import default_rng\n",
    "\n",
    "from fastDOE.core import ExperimentalDesign"
   ]
  },
  {
   "cell_type": "code",
   "execution_count": null,
   "metadata": {},
   "outputs": [
    {
     "name": "stdout",
     "output_type": "stream",
     "text": [
      "The autoreload extension is already loaded. To reload it, use:\n",
      "  %reload_ext autoreload\n"
     ]
    }
   ],
   "source": [
    "#| hide\n",
    "%load_ext autoreload\n",
    "%autoreload 2"
   ]
  },
  {
   "cell_type": "code",
   "execution_count": null,
   "metadata": {},
   "outputs": [],
   "source": [
    "#| export\n",
    "\n",
    "def _generate_levels(factorlvls: list) -> list:\n",
    "    \"\"\"Generates a list of the levels from\n",
    "    the given list with numbers of levels for each factor.\n",
    "\n",
    "    [2, 3, 2] -> [[0, 1], [0, 1, 2], [0, 1]]\n",
    "\n",
    "    Args:\n",
    "        factorlvls (list): list with the number of levels for each factor\n",
    "\n",
    "    Returns:\n",
    "        list: list with the levels for each factor\n",
    "    \"\"\"\n",
    "    levels = []\n",
    "    for rnge in factorlvls:\n",
    "        assert(type(rnge) == int)\n",
    "        levels.append(list(range(rnge)))\n",
    "    return levels"
   ]
  },
  {
   "cell_type": "code",
   "execution_count": null,
   "metadata": {},
   "outputs": [
    {
     "data": {
      "text/plain": [
       "[[0, 1], [0, 1, 2], [0, 1, 2, 3]]"
      ]
     },
     "execution_count": null,
     "metadata": {},
     "output_type": "execute_result"
    }
   ],
   "source": [
    "nr_lvls = [2, 3, 4]\n",
    "\n",
    "_generate_levels(nr_lvls)"
   ]
  },
  {
   "cell_type": "code",
   "execution_count": null,
   "metadata": {},
   "outputs": [],
   "source": [
    "#| export\n",
    "\n",
    "def _build_ff_column(factor:int, nr_levels: list, levels: list) -> list:\n",
    "    \"\"\"Builds the experimental column for the given factor.\n",
    "\n",
    "    Args:\n",
    "        col (int): the column to build\n",
    "        nr_levels (list): number of levels per factor e.g. [2, 3, 4]\n",
    "        levels (list): level for each factor e.g. [[0, 1], [0, 1, 2, 3], [0, 1, 2, 3, 4]]\n",
    "\n",
    "    Returns:\n",
    "        list: column of the experimental design matrix for the given factor\n",
    "    \"\"\"\n",
    "    lvls = [1, 1] + nr_levels\n",
    "    n = np.array(nr_levels).prod()\n",
    "    reps = lvls[factor] * lvls[factor +1]\n",
    "    unit = []\n",
    "    for i in levels[factor]:\n",
    "        unit.extend([i] * reps)\n",
    "    column = unit * int(n / len(unit))\n",
    "    return column\n",
    "   \n",
    "    "
   ]
  },
  {
   "cell_type": "code",
   "execution_count": null,
   "metadata": {},
   "outputs": [],
   "source": [
    "#| export\n",
    "def fullfactorial(nr_lvls: list = [], levels: list = []) -> np.ndarray:\n",
    "    \"\"\"Generates a general fullfactorial experimental design matrix\n",
    "\n",
    "    Args:\n",
    "        factorlvls (list): _description_ e.g. [2, 3, 3]. Defaults to [].\n",
    "        levels (list, optional): _description_. eg. [[1, 2], [1, 2, 3], [1, 2, 3]] Defaults to [].\n",
    "\n",
    "    Returns:\n",
    "        np.ndarray: _description_\n",
    "    \"\"\"\n",
    "    if not nr_lvls and not levels:\n",
    "        raise ValueError(\"Please provide either nr_lvls or levels.\")\n",
    "    nr_lvls = [len(x) for x in levels] if not nr_lvls else nr_lvls\n",
    "    levels = _generate_levels(nr_lvls) if not levels else levels\n",
    "\n",
    "    # build the design matrix\n",
    "    matrix = []\n",
    "    for i, lvl in enumerate(nr_lvls):\n",
    "        matrix.append(_build_ff_column(i, nr_lvls, levels))\n",
    "    matrix = np.array(matrix)\n",
    "    return matrix.T\n",
    "    "
   ]
  },
  {
   "cell_type": "code",
   "execution_count": null,
   "metadata": {},
   "outputs": [
    {
     "data": {
      "text/plain": [
       "array([[0, 0, 0],\n",
       "       [1, 0, 0],\n",
       "       [0, 1, 0],\n",
       "       [1, 1, 0],\n",
       "       [0, 2, 0],\n",
       "       [1, 2, 0],\n",
       "       [0, 0, 1],\n",
       "       [1, 0, 1],\n",
       "       [0, 1, 1],\n",
       "       [1, 1, 1],\n",
       "       [0, 2, 1],\n",
       "       [1, 2, 1],\n",
       "       [0, 0, 2],\n",
       "       [1, 0, 2],\n",
       "       [0, 1, 2],\n",
       "       [1, 1, 2],\n",
       "       [0, 2, 2],\n",
       "       [1, 2, 2],\n",
       "       [0, 0, 3],\n",
       "       [1, 0, 3],\n",
       "       [0, 1, 3],\n",
       "       [1, 1, 3],\n",
       "       [0, 2, 3],\n",
       "       [1, 2, 3]])"
      ]
     },
     "execution_count": null,
     "metadata": {},
     "output_type": "execute_result"
    }
   ],
   "source": [
    "ff = fullfactorial(nr_lvls)\n",
    "ff"
   ]
  },
  {
   "cell_type": "code",
   "execution_count": null,
   "metadata": {},
   "outputs": [
    {
     "data": {
      "text/plain": [
       "array([[0, 0, 0],\n",
       "       [1, 0, 0],\n",
       "       [0, 1, 0],\n",
       "       [1, 1, 0],\n",
       "       [0, 0, 1],\n",
       "       [1, 0, 1],\n",
       "       [0, 1, 1],\n",
       "       [1, 1, 1]])"
      ]
     },
     "execution_count": null,
     "metadata": {},
     "output_type": "execute_result"
    }
   ],
   "source": [
    "nr_levels = [2, 2, 2]\n",
    "fullfactorial(nr_levels)"
   ]
  },
  {
   "cell_type": "code",
   "execution_count": null,
   "metadata": {},
   "outputs": [],
   "source": [
    "#| export\n",
    "def fullfactorial2k(k: int) -> np.ndarray:\n",
    "    \"\"\"\n",
    "    Creates a full factorial design with 2 levels per factor\n",
    "    in standard order\n",
    "\n",
    "    if you have 5 or more factors consider screening designs\n",
    "    to reduce the number of factors\n",
    "\n",
    "    k (int): number of factors\n",
    "\n",
    "    Return\n",
    "    \"\"\"\n",
    "    nr_lvls = [2] * k\n",
    "    levels = [[-1, 1] for _ in range(k)]\n",
    "    return fullfactorial(nr_lvls, levels)\n"
   ]
  },
  {
   "cell_type": "markdown",
   "metadata": {},
   "source": [
    "full factorial design matrix with 3 factors"
   ]
  },
  {
   "cell_type": "code",
   "execution_count": null,
   "metadata": {},
   "outputs": [
    {
     "data": {
      "text/plain": [
       "array([[-1, -1, -1],\n",
       "       [ 1, -1, -1],\n",
       "       [-1,  1, -1],\n",
       "       [ 1,  1, -1],\n",
       "       [-1, -1,  1],\n",
       "       [ 1, -1,  1],\n",
       "       [-1,  1,  1],\n",
       "       [ 1,  1,  1]])"
      ]
     },
     "execution_count": null,
     "metadata": {},
     "output_type": "execute_result"
    }
   ],
   "source": [
    "fullfactorial2k(3)"
   ]
  },
  {
   "cell_type": "code",
   "execution_count": null,
   "metadata": {},
   "outputs": [],
   "source": [
    "#| hide\n",
    "ff = fullfactorial2k(5)\n",
    "assert ff.shape[0] == 2**5\n",
    "assert ff.shape[1] == 5"
   ]
  },
  {
   "cell_type": "code",
   "execution_count": null,
   "metadata": {},
   "outputs": [
    {
     "data": {
      "text/plain": [
       "array([[-1, -1, -1],\n",
       "       [ 1, -1, -1],\n",
       "       [-1,  1, -1],\n",
       "       [ 1,  1, -1],\n",
       "       [-1, -1,  1],\n",
       "       [ 1, -1,  1],\n",
       "       [-1,  1,  1],\n",
       "       [ 1,  1,  1]])"
      ]
     },
     "execution_count": null,
     "metadata": {},
     "output_type": "execute_result"
    }
   ],
   "source": [
    "ff = fullfactorial2k(3)\n",
    "ff"
   ]
  },
  {
   "cell_type": "code",
   "execution_count": null,
   "metadata": {},
   "outputs": [],
   "source": [
    "#| export\n",
    "def _randomize_frame(df: pd.DataFrame, randomize=True, axis: int=0, seed=42) -> pd.DataFrame:\n",
    "    \"\"\"Randomizes the rows of the Dataframe\n",
    "    if randomize is True.\n",
    "\n",
    "    Args:\n",
    "        df (pd.DataFrame): _description_\n",
    "        randomize (bool, optional): _description_. Defaults to True.\n",
    "        axis (int, optional): _description_. Defaults to 0.\n",
    "        seed (int, optional): _description_. Defaults to 42.\n",
    "\n",
    "    Returns:\n",
    "        pd.DataFrame: _description_\n",
    "    \"\"\"\n",
    "    if randomize:\n",
    "        rng = default_rng(seed)\n",
    "        rng.shuffle(df.values, axis=axis)\n",
    "    return df"
   ]
  },
  {
   "cell_type": "code",
   "execution_count": null,
   "metadata": {},
   "outputs": [],
   "source": [
    "#| export\n",
    "def _add_blocks(df: pd.DataFrame, block_on:str) -> pd.DataFrame:\n",
    "    \"\"\"Adds blocking to the given Dataframe\n",
    "    for the given columns to block_on.\n",
    "\n",
    "    Args:\n",
    "        df (pd.DataFrame): _description_\n",
    "        block_on (str): column which is used to block the experimental Design\n",
    "\n",
    "    Returns:\n",
    "        pd.DataFrame: _description_\n",
    "    \"\"\"\n",
    "    i = 0\n",
    "    if block_on == \"rep\":\n",
    "        for r in df[\"rep\"].unique():\n",
    "            df.loc[(df[\"rep\"]==r), \"block\"] = i\n",
    "            i += 1\n",
    "    elif block_on in df.columns:\n",
    "        for r in df[\"rep\"].unique():\n",
    "            for v in df[block_on].unique():\n",
    "                df.loc[(df[\"rep\"]==r) & (df[block_on]==v), \"block\"] = i\n",
    "                i+=1\n",
    "    return df\n"
   ]
  },
  {
   "cell_type": "code",
   "execution_count": null,
   "metadata": {},
   "outputs": [],
   "source": [
    "#| export\n",
    "def _add_centerruns(matrix: pd.DataFrame, centerruns) -> pd.DataFrame:\n",
    "    \"\"\"Adds centerruns to  the given design matrix\n",
    "\n",
    "    Args:\n",
    "        matrix (pd.DataFrame): _description_\n",
    "        centerruns (str | int): either \"block\" to add centerruns after each block\n",
    "                                or specify the number of centerruns directly which\n",
    "                                are distributed evenly across the design matrix\n",
    "\n",
    "    Returns:\n",
    "        pd.DataFrame: _description_\n",
    "    \"\"\"\n",
    "    n = matrix.shape[0]\n",
    "    if centerruns == \"block\":\n",
    "        centerruns = len(matrix[\"block\"].unique()) + 1\n",
    "    elif type(centerruns) == int:\n",
    "        centerruns = centerruns\n",
    "    centerpositions = np.linspace(0, n, centerruns, dtype=\"int\")\n",
    "    new_matrix = np.insert(matrix.values, centerpositions, [0]*matrix.shape[1], axis=0)\n",
    "    return pd.DataFrame(new_matrix, columns=matrix.columns)\n"
   ]
  },
  {
   "cell_type": "code",
   "execution_count": null,
   "metadata": {},
   "outputs": [],
   "source": [
    "def fullfact2k(\n",
    "    factors:list,\n",
    "    level_values:list=[],\n",
    "    randomize:bool=True,\n",
    "    centerruns:int=3,\n",
    "    repetitions:int=0,\n",
    "    block_on: int=\"rep\",\n",
    "    seed:int=42):\n",
    "    \"\"\"Wrapper for fullfactorial2k with additional options\n",
    "\n",
    "    Args:\n",
    "        factors (list): _description_\n",
    "        randomize (bool, optional): _description_. Defaults to True.\n",
    "        centerruns (int, optional): _description_. Defaults to 3.\n",
    "        repetitions (int, optional): _description_. Defaults to 0.\n",
    "        seed (int, optional): _description_. Defaults to 42.\n",
    "\n",
    "    Returns:\n",
    "        _type_: _description_\n",
    "    \"\"\"\n",
    "    \n",
    "    k: int = len(factors)\n",
    "    runs: int = repetitions + 1\n",
    "    n: int = 2**k * runs\n",
    "    base_matrix: np.ndarray = fullfactorial2k(k)\n",
    "    start: int = 1\n",
    "    stop: int = len(base_matrix)\n",
    "    steps: int = len(base_matrix)\n",
    "    matrix = np.append(base_matrix, np.linspace(start, stop, steps, dtype=\"int32\").reshape((steps, -1)), axis=1)\n",
    "    cols = factors + [\"standardOrder\"]\n",
    "    df = pd.DataFrame(matrix, columns = cols)\n",
    "    new_df = df.assign(rep=0)\n",
    "    for i in range(1, runs):\n",
    "        new_df = pd.concat([new_df, df.assign(rep=i)])\n",
    "    design = (\n",
    "        new_df\n",
    "        .assign(block=0)\n",
    "        .pipe(_add_blocks, block_on)\n",
    "        .pipe(_randomize_frame, randomize)\n",
    "        .sort_values(\"rep\")\n",
    "        .pipe(_add_centerruns, centerruns)\n",
    "    )\n",
    "    return design\n",
    "    return ExperimentalDesign(design, factors, level_values)"
   ]
  },
  {
   "cell_type": "code",
   "execution_count": null,
   "metadata": {},
   "outputs": [],
   "source": [
    "factors = [\"a\", \"b\", \"c\"]\n",
    "f = fullfact2k(factors, block_on=\"rep\", repetitions=1)"
   ]
  },
  {
   "cell_type": "code",
   "execution_count": null,
   "metadata": {},
   "outputs": [
    {
     "data": {
      "text/plain": [
       "    a  b  c  standardOrder  rep  block\n",
       "0   0  0  0              0    0      0\n",
       "1  -1  1  1              7    0      0\n",
       "2   1  1 -1              4    0      0\n",
       "3  -1 -1 -1              1    0      0\n",
       "4   1  1  1              8    0      0\n",
       "5   1 -1  1              6    0      0\n",
       "6  -1  1 -1              3    0      0\n",
       "7  -1 -1  1              5    0      0\n",
       "8   1 -1 -1              2    0      0\n",
       "9   0  0  0              0    0      0\n",
       "10  1  1  1              8    1      1\n",
       "11  1  1 -1              4    1      1\n",
       "12 -1  1 -1              3    1      1\n",
       "13  1 -1 -1              2    1      1\n",
       "14 -1 -1  1              5    1      1\n",
       "15 -1  1  1              7    1      1\n",
       "16  1 -1  1              6    1      1\n",
       "17 -1 -1 -1              1    1      1\n",
       "18  0  0  0              0    0      0"
      ]
     },
     "execution_count": null,
     "metadata": {},
     "output_type": "execute_result"
    }
   ],
   "source": [
    "ExperimentalDesign(design=f, factors=factors, level_values=[])"
   ]
  },
  {
   "cell_type": "code",
   "execution_count": null,
   "metadata": {},
   "outputs": [],
   "source": [
    "m = fullfactorial2k(3)"
   ]
  },
  {
   "cell_type": "code",
   "execution_count": null,
   "metadata": {},
   "outputs": [
    {
     "data": {
      "text/plain": [
       "array([[-1, -1, -1],\n",
       "       [ 1, -1, -1],\n",
       "       [-1,  1, -1],\n",
       "       [ 1,  1, -1],\n",
       "       [-1, -1,  1],\n",
       "       [ 1, -1,  1],\n",
       "       [-1,  1,  1],\n",
       "       [ 1,  1,  1]])"
      ]
     },
     "execution_count": null,
     "metadata": {},
     "output_type": "execute_result"
    }
   ],
   "source": [
    "m"
   ]
  },
  {
   "cell_type": "code",
   "execution_count": null,
   "metadata": {},
   "outputs": [],
   "source": [
    "df = pd.DataFrame(m, columns=[\"a\", \"b\", \"c\"])"
   ]
  },
  {
   "cell_type": "code",
   "execution_count": null,
   "metadata": {},
   "outputs": [
    {
     "data": {
      "text/html": [
       "<div>\n",
       "<style scoped>\n",
       "    .dataframe tbody tr th:only-of-type {\n",
       "        vertical-align: middle;\n",
       "    }\n",
       "\n",
       "    .dataframe tbody tr th {\n",
       "        vertical-align: top;\n",
       "    }\n",
       "\n",
       "    .dataframe thead th {\n",
       "        text-align: right;\n",
       "    }\n",
       "</style>\n",
       "<table border=\"1\" class=\"dataframe\">\n",
       "  <thead>\n",
       "    <tr style=\"text-align: right;\">\n",
       "      <th></th>\n",
       "      <th>a</th>\n",
       "      <th>b</th>\n",
       "      <th>c</th>\n",
       "    </tr>\n",
       "  </thead>\n",
       "  <tbody>\n",
       "    <tr>\n",
       "      <th>0</th>\n",
       "      <td>-1</td>\n",
       "      <td>-1</td>\n",
       "      <td>-1</td>\n",
       "    </tr>\n",
       "    <tr>\n",
       "      <th>1</th>\n",
       "      <td>1</td>\n",
       "      <td>-1</td>\n",
       "      <td>-1</td>\n",
       "    </tr>\n",
       "    <tr>\n",
       "      <th>2</th>\n",
       "      <td>-1</td>\n",
       "      <td>1</td>\n",
       "      <td>-1</td>\n",
       "    </tr>\n",
       "    <tr>\n",
       "      <th>3</th>\n",
       "      <td>1</td>\n",
       "      <td>1</td>\n",
       "      <td>-1</td>\n",
       "    </tr>\n",
       "    <tr>\n",
       "      <th>4</th>\n",
       "      <td>-1</td>\n",
       "      <td>-1</td>\n",
       "      <td>1</td>\n",
       "    </tr>\n",
       "  </tbody>\n",
       "</table>\n",
       "</div>"
      ],
      "text/plain": [
       "   a  b  c\n",
       "0 -1 -1 -1\n",
       "1  1 -1 -1\n",
       "2 -1  1 -1\n",
       "3  1  1 -1\n",
       "4 -1 -1  1"
      ]
     },
     "execution_count": null,
     "metadata": {},
     "output_type": "execute_result"
    }
   ],
   "source": [
    "df.head()"
   ]
  },
  {
   "cell_type": "code",
   "execution_count": null,
   "metadata": {},
   "outputs": [
    {
     "data": {
      "text/html": [
       "<div>\n",
       "<style scoped>\n",
       "    .dataframe tbody tr th:only-of-type {\n",
       "        vertical-align: middle;\n",
       "    }\n",
       "\n",
       "    .dataframe tbody tr th {\n",
       "        vertical-align: top;\n",
       "    }\n",
       "\n",
       "    .dataframe thead th {\n",
       "        text-align: right;\n",
       "    }\n",
       "</style>\n",
       "<table border=\"1\" class=\"dataframe\">\n",
       "  <thead>\n",
       "    <tr style=\"text-align: right;\">\n",
       "      <th></th>\n",
       "      <th>a</th>\n",
       "      <th>b</th>\n",
       "      <th>c</th>\n",
       "    </tr>\n",
       "  </thead>\n",
       "  <tbody>\n",
       "    <tr>\n",
       "      <th>0</th>\n",
       "      <td>-1</td>\n",
       "      <td>-1</td>\n",
       "      <td>-1</td>\n",
       "    </tr>\n",
       "    <tr>\n",
       "      <th>2</th>\n",
       "      <td>-1</td>\n",
       "      <td>1</td>\n",
       "      <td>-1</td>\n",
       "    </tr>\n",
       "    <tr>\n",
       "      <th>4</th>\n",
       "      <td>-1</td>\n",
       "      <td>-1</td>\n",
       "      <td>1</td>\n",
       "    </tr>\n",
       "    <tr>\n",
       "      <th>6</th>\n",
       "      <td>-1</td>\n",
       "      <td>1</td>\n",
       "      <td>1</td>\n",
       "    </tr>\n",
       "  </tbody>\n",
       "</table>\n",
       "</div>"
      ],
      "text/plain": [
       "   a  b  c\n",
       "0 -1 -1 -1\n",
       "2 -1  1 -1\n",
       "4 -1 -1  1\n",
       "6 -1  1  1"
      ]
     },
     "execution_count": null,
     "metadata": {},
     "output_type": "execute_result"
    }
   ],
   "source": [
    "col = \"a\"\n",
    "df.query(f\"{col}==-1\")"
   ]
  },
  {
   "cell_type": "code",
   "execution_count": null,
   "metadata": {},
   "outputs": [],
   "source": [
    "ff = fullfact2k([\"a\", \"b\"])"
   ]
  },
  {
   "cell_type": "code",
   "execution_count": null,
   "metadata": {},
   "outputs": [],
   "source": [
    "from nbdev import nbdev_export; nbdev_export()"
   ]
  }
 ],
 "metadata": {
  "kernelspec": {
   "display_name": "Python 3.8.10 ('fastDOE-ZZCmOKID')",
   "language": "python",
   "name": "python3"
  }
 },
 "nbformat": 4,
 "nbformat_minor": 2
}
