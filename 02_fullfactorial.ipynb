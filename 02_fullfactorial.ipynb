{
 "cells": [
  {
   "cell_type": "code",
   "execution_count": null,
   "metadata": {},
   "outputs": [],
   "source": [
    "# default_exp fullfactorial"
   ]
  },
  {
   "cell_type": "markdown",
   "metadata": {},
   "source": [
    "# FullFactorial"
   ]
  },
  {
   "cell_type": "code",
   "execution_count": null,
   "metadata": {},
   "outputs": [],
   "source": [
    "# export\n",
    "import numpy as np"
   ]
  },
  {
   "cell_type": "code",
   "execution_count": null,
   "metadata": {},
   "outputs": [],
   "source": [
    "# export\n",
    "\n",
    "def _generate_levels(factorlvls: list) -> list:\n",
    "    \"\"\"Generates a list of the levels from\n",
    "    the given list with numbers of levels for each factor.\n",
    "\n",
    "    [2, 3, 2] -> [[0, 1], [0, 1, 2], [0, 1]]\n",
    "\n",
    "    Args:\n",
    "        factorlvls (list): list with the number of levels for each factor\n",
    "\n",
    "    Returns:\n",
    "        list: list with the levels for each factor\n",
    "    \"\"\"\n",
    "    levels = []\n",
    "    for rnge in factorlvls:\n",
    "        assert(type(rnge) == int)\n",
    "        levels.append(list(range(rnge)))\n",
    "    return levels"
   ]
  },
  {
   "cell_type": "code",
   "execution_count": null,
   "metadata": {},
   "outputs": [
    {
     "data": {
      "text/plain": [
       "[[0, 1], [0, 1, 2], [0, 1, 2, 3]]"
      ]
     },
     "execution_count": null,
     "metadata": {},
     "output_type": "execute_result"
    }
   ],
   "source": [
    "nr_lvls = [2, 3, 4]\n",
    "\n",
    "_generate_levels(nr_lvls)"
   ]
  },
  {
   "cell_type": "code",
   "execution_count": null,
   "metadata": {},
   "outputs": [],
   "source": [
    "# export\n",
    "\n",
    "def _build_ff_column(factor:int, nr_levels: list, levels: list) -> list:\n",
    "    \"\"\"Builds the experimental column for the given factor.\n",
    "\n",
    "    Args:\n",
    "        col (int): the column to build\n",
    "        nr_levels (list): number of levels per factor e.g. [2, 3, 4]\n",
    "        levels (list): level for each factor e.g. [[0, 1], [0, 1, 2, 3], [0, 1, 2, 3, 4]]\n",
    "\n",
    "    Returns:\n",
    "        list: column of the experimental design matrix for the given factor\n",
    "    \"\"\"\n",
    "    lvls = [1, 1] + nr_levels\n",
    "    n = np.array(nr_levels).prod()\n",
    "    reps = lvls[factor] * lvls[factor +1]\n",
    "    unit = []\n",
    "    for i in levels[factor]:\n",
    "        unit.extend([i] * reps)\n",
    "    column = unit * int(n / len(unit))\n",
    "    return column\n",
    "   \n",
    "    "
   ]
  },
  {
   "cell_type": "code",
   "execution_count": null,
   "metadata": {},
   "outputs": [],
   "source": [
    "# export\n",
    "def fullfactorial(factorlvls: list, levels: list = []) -> np.ndarray:\n",
    "    levels = _generate_levels(factorlvls) if not levels else levels\n",
    "    matrix = []\n",
    "    for i, lvl in enumerate(factorlvls):\n",
    "        matrix.append(_build_ff_column(i, factorlvls, levels))\n",
    "    matrix = np.array(matrix)\n",
    "    return matrix.T\n",
    "    "
   ]
  },
  {
   "cell_type": "code",
   "execution_count": null,
   "metadata": {},
   "outputs": [
    {
     "data": {
      "text/plain": [
       "array([[0, 0, 0],\n",
       "       [1, 0, 0],\n",
       "       [0, 1, 0],\n",
       "       [1, 1, 0],\n",
       "       [0, 2, 0],\n",
       "       [1, 2, 0],\n",
       "       [0, 0, 1],\n",
       "       [1, 0, 1],\n",
       "       [0, 1, 1],\n",
       "       [1, 1, 1],\n",
       "       [0, 2, 1],\n",
       "       [1, 2, 1],\n",
       "       [0, 0, 2],\n",
       "       [1, 0, 2],\n",
       "       [0, 1, 2],\n",
       "       [1, 1, 2],\n",
       "       [0, 2, 2],\n",
       "       [1, 2, 2],\n",
       "       [0, 0, 3],\n",
       "       [1, 0, 3],\n",
       "       [0, 1, 3],\n",
       "       [1, 1, 3],\n",
       "       [0, 2, 3],\n",
       "       [1, 2, 3]])"
      ]
     },
     "execution_count": null,
     "metadata": {},
     "output_type": "execute_result"
    }
   ],
   "source": [
    "m = fullfactorial(nr_lvls)\n",
    "m"
   ]
  },
  {
   "cell_type": "code",
   "execution_count": null,
   "metadata": {},
   "outputs": [
    {
     "data": {
      "text/plain": [
       "array([[0, 0, 0],\n",
       "       [1, 0, 0],\n",
       "       [0, 1, 0],\n",
       "       [1, 1, 0],\n",
       "       [0, 0, 1],\n",
       "       [1, 0, 1],\n",
       "       [0, 1, 1],\n",
       "       [1, 1, 1]])"
      ]
     },
     "execution_count": null,
     "metadata": {},
     "output_type": "execute_result"
    }
   ],
   "source": [
    "nr_levels = [2, 2, 2]\n",
    "fullfactorial(nr_levels)"
   ]
  },
  {
   "cell_type": "code",
   "execution_count": null,
   "metadata": {},
   "outputs": [],
   "source": [
    "# export\n",
    "def fullfactorial2k(k: int) -> np.ndarray:\n",
    "    \"\"\"\n",
    "    Creates a full factorial design with 2 levels per factor\n",
    "    in standard order\n",
    "\n",
    "    if you have 5 or more factors consider screening designs\n",
    "    to reduce the number of factors\n",
    "\n",
    "    k: number of factors\n",
    "\n",
    "    Return\n",
    "    \"\"\"\n",
    "    nr_lvls = [2] * k\n",
    "    levels = [[-1, 1] for _ in range(k)]\n",
    "    return fullfactorial(nr_lvls, levels)\n"
   ]
  },
  {
   "cell_type": "markdown",
   "metadata": {},
   "source": [
    "full factorial design matrix with 3 factors"
   ]
  },
  {
   "cell_type": "code",
   "execution_count": null,
   "metadata": {},
   "outputs": [
    {
     "data": {
      "text/plain": [
       "array([[-1, -1, -1],\n",
       "       [ 1, -1, -1],\n",
       "       [-1,  1, -1],\n",
       "       [ 1,  1, -1],\n",
       "       [-1, -1,  1],\n",
       "       [ 1, -1,  1],\n",
       "       [-1,  1,  1],\n",
       "       [ 1,  1,  1]])"
      ]
     },
     "execution_count": null,
     "metadata": {},
     "output_type": "execute_result"
    }
   ],
   "source": [
    "fullfactorial2k(3)"
   ]
  },
  {
   "cell_type": "code",
   "execution_count": null,
   "metadata": {},
   "outputs": [],
   "source": [
    "m = fullfactorial2k(5)\n",
    "assert m.shape[0] == 2**5\n",
    "assert m.shape[1] == 5"
   ]
  },
  {
   "cell_type": "code",
   "execution_count": null,
   "metadata": {},
   "outputs": [],
   "source": []
  }
 ],
 "metadata": {
  "kernelspec": {
   "display_name": "Python 3.8.10 ('fastDOE-ZZCmOKID')",
   "language": "python",
   "name": "python3"
  }
 },
 "nbformat": 4,
 "nbformat_minor": 2
}
