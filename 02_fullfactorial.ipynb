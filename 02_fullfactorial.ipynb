{
 "cells": [
  {
   "cell_type": "code",
   "execution_count": null,
   "metadata": {},
   "outputs": [],
   "source": [
    "# default_exp fullfactorial"
   ]
  },
  {
   "cell_type": "markdown",
   "metadata": {},
   "source": [
    "# FullFactorial"
   ]
  },
  {
   "cell_type": "code",
   "execution_count": null,
   "metadata": {},
   "outputs": [],
   "source": [
    "# export\n",
    "import numpy as np"
   ]
  },
  {
   "cell_type": "code",
   "execution_count": null,
   "metadata": {},
   "outputs": [],
   "source": [
    "# export\n",
    "def fullfactorial2k(k: int) -> np.ndarray:\n",
    "    \"\"\"\n",
    "    Creates a full factorial design with 2 levels per factor\n",
    "    in standard order\n",
    "\n",
    "    k: number of factors\n",
    "\n",
    "    Return\n",
    "    \"\"\"\n",
    "    n = 2**k\n",
    "    matrix = np.zeros((n,k))\n",
    "    for j in range(k):\n",
    "        level = 1\n",
    "        for i in range(n):\n",
    "            repeats = 2**((j+1)-1)\n",
    "            if i % repeats == 0:\n",
    "                level *= -1\n",
    "            matrix[i,j] = level\n",
    "    return matrix\n"
   ]
  },
  {
   "cell_type": "markdown",
   "metadata": {},
   "source": [
    "full factorial design matrix with 3 factors"
   ]
  },
  {
   "cell_type": "code",
   "execution_count": null,
   "metadata": {},
   "outputs": [
    {
     "data": {
      "text/plain": [
       "array([[-1., -1., -1.],\n",
       "       [ 1., -1., -1.],\n",
       "       [-1.,  1., -1.],\n",
       "       [ 1.,  1., -1.],\n",
       "       [-1., -1.,  1.],\n",
       "       [ 1., -1.,  1.],\n",
       "       [-1.,  1.,  1.],\n",
       "       [ 1.,  1.,  1.]])"
      ]
     },
     "execution_count": null,
     "metadata": {},
     "output_type": "execute_result"
    }
   ],
   "source": [
    "fullfactorial2k(3)"
   ]
  },
  {
   "cell_type": "code",
   "execution_count": null,
   "metadata": {},
   "outputs": [],
   "source": [
    "m = fullfactorial2k(5)\n",
    "assert m.shape[0] == 2**5\n",
    "assert m.shape[1] == 5"
   ]
  },
  {
   "cell_type": "code",
   "execution_count": null,
   "metadata": {},
   "outputs": [],
   "source": []
  }
 ],
 "metadata": {
  "kernelspec": {
   "display_name": "Python 3.8.10 ('fastDOE-ZZCmOKID')",
   "language": "python",
   "name": "python3"
  }
 },
 "nbformat": 4,
 "nbformat_minor": 2
}
